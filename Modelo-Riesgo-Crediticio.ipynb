{
 "cells": [
  {
   "cell_type": "code",
   "execution_count": null,
   "id": "11e6afe9",
   "metadata": {},
   "outputs": [],
   "source": [
    "# Es esta parte vamos a importar las librerías que vamos a utilizar\n",
    "\n",
    "import pandas as pd\n",
    "import xgboost as xgb\n",
    "from sklearn.model_selection import train_test_split\n",
    "from xgboost import XGBClassifier\n",
    "import matplotlib.pyplot as plt\n"
   ]
  },
  {
   "cell_type": "code",
   "execution_count": null,
   "id": "954f702c",
   "metadata": {},
   "outputs": [],
   "source": [
    "# Definimos que datos son relevantes para hacer en nuestro modelo\n",
    "datos= datos[['ExistingCreditsCount','Age','CurrentResidenceDuration','LoanDuration','Risk']]"
   ]
  },
  {
   "cell_type": "code",
   "execution_count": null,
   "id": "3aa84841",
   "metadata": {},
   "outputs": [],
   "source": [
    "# Corroboramos que los datos que necesito estén en un la variable \"Datos\" y además que me muestre los primeros cinco registros\n",
    "datos.head()"
   ]
  },
  {
   "cell_type": "code",
   "execution_count": null,
   "id": "a6c381f2",
   "metadata": {
    "scrolled": false
   },
   "outputs": [],
   "source": [
    "# En este paso Tendremos que cambiar Riks de String a valores numéricos para poder utilizar nuestro clasificador XGB\n",
    "datos['Risk']= datos ['Risk'].map( {'No Risk':0,'Risk':1} )"
   ]
  },
  {
   "cell_type": "code",
   "execution_count": null,
   "id": "1470188a",
   "metadata": {},
   "outputs": [],
   "source": [
    "# Para ver que se hayan hecho el cambio de String a Numérico nuevamente mostraremos los primeros cinco registros\n",
    "datos.head()"
   ]
  },
  {
   "cell_type": "code",
   "execution_count": null,
   "id": "2a132d4e",
   "metadata": {},
   "outputs": [],
   "source": [
    "# En este paso voy a definir cuál es mi variable independiente y mi variable de salida\n",
    "X = datos.drop('Risk', axis=1)\n",
    "y = datos ['Risk']"
   ]
  },
  {
   "cell_type": "code",
   "execution_count": null,
   "id": "35769860",
   "metadata": {},
   "outputs": [],
   "source": [
    "# En este punto voy a dividir mis datos para entrenar y hacer pruebas de mi modelo\n",
    "X_train,X_test, y_train, y_test = train_test_split(X,y,random_state =1)"
   ]
  },
  {
   "cell_type": "code",
   "execution_count": null,
   "id": "780035d6",
   "metadata": {},
   "outputs": [],
   "source": [
    "# Definimos el clasificador, en este caso el XGB\n",
    "model = XGBClassifier()"
   ]
  },
  {
   "cell_type": "code",
   "execution_count": null,
   "id": "fc840394",
   "metadata": {},
   "outputs": [],
   "source": [
    "# Ajustamos el modelo\n",
    "model.fit(X_train, y_train)"
   ]
  },
  {
   "cell_type": "code",
   "execution_count": null,
   "id": "954c2e9f",
   "metadata": {},
   "outputs": [],
   "source": [
    "# Graficamos las variables de acuerdo a la importancia de nuestro modelo\n",
    "import matplotlib.pyplot as plt\n",
    "%matplotlib inline\n",
    "\n",
    "xgb.plot_importance(model, ax=plt.gca())"
   ]
  },
  {
   "cell_type": "code",
   "execution_count": null,
   "id": "434e0130",
   "metadata": {},
   "outputs": [],
   "source": [
    "# Probamos nuestro modelo\n",
    "predictions = model.predict(X_test)"
   ]
  },
  {
   "cell_type": "code",
   "execution_count": null,
   "id": "62454443",
   "metadata": {},
   "outputs": [],
   "source": [
    "# Vemos las primeras diez predicciones\n",
    "predictions[1:10]"
   ]
  },
  {
   "cell_type": "code",
   "execution_count": null,
   "id": "1da56d5b",
   "metadata": {},
   "outputs": [],
   "source": [
    "# Mostramos cuáles son los datos que se tomaron para hacer la predicción\n",
    "X_test.head(10)"
   ]
  },
  {
   "cell_type": "code",
   "execution_count": null,
   "id": "85db433e",
   "metadata": {},
   "outputs": [],
   "source": [
    "# Exactitud del modelo\n",
    "model.score(X_test, y_test)"
   ]
  }
 ],
 "metadata": {
  "kernelspec": {
   "display_name": "Python 3 (ipykernel)",
   "language": "python",
   "name": "python3"
  },
  "language_info": {
   "codemirror_mode": {
    "name": "ipython",
    "version": 3
   },
   "file_extension": ".py",
   "mimetype": "text/x-python",
   "name": "python",
   "nbconvert_exporter": "python",
   "pygments_lexer": "ipython3",
   "version": "3.9.12"
  }
 },
 "nbformat": 4,
 "nbformat_minor": 5
}
